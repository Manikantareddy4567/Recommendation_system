{
  "nbformat": 4,
  "nbformat_minor": 0,
  "metadata": {
    "colab": {
      "provenance": [],
      "authorship_tag": "ABX9TyM326mEBwvzg12IZzhne0Gy",
      "include_colab_link": true
    },
    "kernelspec": {
      "name": "python3",
      "display_name": "Python 3"
    },
    "language_info": {
      "name": "python"
    }
  },
  "cells": [
    {
      "cell_type": "markdown",
      "metadata": {
        "id": "view-in-github",
        "colab_type": "text"
      },
      "source": [
        "<a href=\"https://colab.research.google.com/github/Manikantareddy4567/treh/blob/main/Recommendation_system.ipynb\" target=\"_parent\"><img src=\"https://colab.research.google.com/assets/colab-badge.svg\" alt=\"Open In Colab\"/></a>"
      ]
    },
    {
      "cell_type": "code",
      "execution_count": 1,
      "metadata": {
        "colab": {
          "base_uri": "https://localhost:8080/"
        },
        "id": "GPF06-y6fnpX",
        "outputId": "12693ce5-c95a-42de-ea64-2f83732dd574"
      },
      "outputs": [
        {
          "output_type": "stream",
          "name": "stdout",
          "text": [
            "Requirement already satisfied: pandas in /usr/local/lib/python3.11/dist-packages (2.2.2)\n",
            "Requirement already satisfied: numpy in /usr/local/lib/python3.11/dist-packages (1.26.4)\n",
            "Requirement already satisfied: scikit-learn in /usr/local/lib/python3.11/dist-packages (1.6.1)\n",
            "Requirement already satisfied: scipy in /usr/local/lib/python3.11/dist-packages (1.13.1)\n",
            "Collecting surprise\n",
            "  Downloading surprise-0.1-py2.py3-none-any.whl.metadata (327 bytes)\n",
            "Requirement already satisfied: python-dateutil>=2.8.2 in /usr/local/lib/python3.11/dist-packages (from pandas) (2.8.2)\n",
            "Requirement already satisfied: pytz>=2020.1 in /usr/local/lib/python3.11/dist-packages (from pandas) (2025.1)\n",
            "Requirement already satisfied: tzdata>=2022.7 in /usr/local/lib/python3.11/dist-packages (from pandas) (2025.1)\n",
            "Requirement already satisfied: joblib>=1.2.0 in /usr/local/lib/python3.11/dist-packages (from scikit-learn) (1.4.2)\n",
            "Requirement already satisfied: threadpoolctl>=3.1.0 in /usr/local/lib/python3.11/dist-packages (from scikit-learn) (3.5.0)\n",
            "Collecting scikit-surprise (from surprise)\n",
            "  Downloading scikit_surprise-1.1.4.tar.gz (154 kB)\n",
            "\u001b[2K     \u001b[90m━━━━━━━━━━━━━━━━━━━━━━━━━━━━━━━━━━━━━━━━\u001b[0m \u001b[32m154.4/154.4 kB\u001b[0m \u001b[31m4.4 MB/s\u001b[0m eta \u001b[36m0:00:00\u001b[0m\n",
            "\u001b[?25h  Installing build dependencies ... \u001b[?25l\u001b[?25hdone\n",
            "  Getting requirements to build wheel ... \u001b[?25l\u001b[?25hdone\n",
            "  Preparing metadata (pyproject.toml) ... \u001b[?25l\u001b[?25hdone\n",
            "Requirement already satisfied: six>=1.5 in /usr/local/lib/python3.11/dist-packages (from python-dateutil>=2.8.2->pandas) (1.17.0)\n",
            "Downloading surprise-0.1-py2.py3-none-any.whl (1.8 kB)\n",
            "Building wheels for collected packages: scikit-surprise\n",
            "  Building wheel for scikit-surprise (pyproject.toml) ... \u001b[?25l\u001b[?25hdone\n",
            "  Created wheel for scikit-surprise: filename=scikit_surprise-1.1.4-cp311-cp311-linux_x86_64.whl size=2505185 sha256=353c2659ae08ca1d1bf0790472609d5378fe12daca5920e307e2c2f4c1544cec\n",
            "  Stored in directory: /root/.cache/pip/wheels/2a/8f/6e/7e2899163e2d85d8266daab4aa1cdabec7a6c56f83c015b5af\n",
            "Successfully built scikit-surprise\n",
            "Installing collected packages: scikit-surprise, surprise\n",
            "Successfully installed scikit-surprise-1.1.4 surprise-0.1\n"
          ]
        }
      ],
      "source": [
        "pip install pandas numpy scikit-learn scipy surprise"
      ]
    },
    {
      "cell_type": "code",
      "source": [
        "import pandas as pd\n",
        "import numpy as np\n",
        "import tensorflow as tf\n",
        "from tensorflow.keras.models import Model\n",
        "from tensorflow.keras.layers import Input, Embedding, Dot, Flatten, Dense\n",
        "from sklearn.metrics.pairwise import cosine_similarity\n",
        "from sklearn.preprocessing import MinMaxScaler\n",
        "from tabulate import tabulate\n",
        "import duckdb\n",
        "import matplotlib.pyplot as plt\n",
        "\n",
        "def load_data():\n",
        "    print(\"Loading data...\")\n",
        "    genome_scores_df = pd.read_csv('/content/genome_scores.csv')\n",
        "    tag_relevance = genome_scores_df.pivot(index='movieId', columns='tagId', values='relevance').fillna(0)\n",
        "    scaler = MinMaxScaler()\n",
        "    tag_relevance_scaled = pd.DataFrame(scaler.fit_transform(tag_relevance), index=tag_relevance.index, columns=tag_relevance.columns)\n",
        "    print(\"Data successfully loaded and scaled.\")\n",
        "    return tag_relevance_scaled\n",
        "\n",
        "def compute_similarity(tag_relevance):\n",
        "    print(\"Computing similarity matrix...\")\n",
        "    similarity = cosine_similarity(tag_relevance, tag_relevance)\n",
        "    print(\"Similarity matrix computed successfully.\")\n",
        "    return similarity\n",
        "\n",
        "def recommend_movie(movie_id, tag_relevance, similarity_matrix, movie_titles=None, n=10):\n",
        "    if movie_id not in tag_relevance.index:\n",
        "        return \"Movie ID not found in dataset.\"\n",
        "\n",
        "    print(f\"Finding recommendations for Movie ID: {movie_id}...\")\n",
        "    idx = tag_relevance.index.get_loc(movie_id)\n",
        "    sim_scores = list(enumerate(similarity_matrix[idx]))\n",
        "    sim_scores = sorted(sim_scores, key=lambda x: x[1], reverse=True)\n",
        "    sim_scores = sim_scores[1:n+1]\n",
        "    movie_indices = [int(tag_relevance.index[i[0]]) for i in sim_scores]\n",
        "\n",
        "    results = [[i+1, movie, movie_titles.get(movie, \"Unknown Movie\")] if movie_titles else [i+1, movie] for i, movie in enumerate(movie_indices)]\n",
        "    headers = [\"Rank\", \"Recommended Movie ID\", \"Movie Title\"] if movie_titles else [\"Rank\", \"Recommended Movie ID\"]\n",
        "    print(tabulate(results, headers=headers, tablefmt=\"fancy_grid\"))\n",
        "    return movie_indices\n",
        "\n",
        "def load_movie_titles():\n",
        "    try:\n",
        "        movies_df = pd.read_csv('/mnt/data/movies.csv')\n",
        "        return dict(zip(movies_df['movieId'], movies_df['title']))\n",
        "    except Exception as e:\n",
        "        print(f\"Error loading movie titles: {e}\")\n",
        "        return {}\n",
        "\n",
        "def build_model(num_users, num_movies, embedding_size=50):\n",
        "    user_input = Input(shape=(1,))\n",
        "    movie_input = Input(shape=(1,))\n",
        "    user_embedding = Embedding(input_dim=num_users, output_dim=embedding_size)(user_input)\n",
        "    movie_embedding = Embedding(input_dim=num_movies, output_dim=embedding_size)(movie_input)\n",
        "    dot_product = Dot(axes=2)([user_embedding, movie_embedding])\n",
        "    output = Flatten()(dot_product)\n",
        "    model = Model(inputs=[user_input, movie_input], outputs=output)\n",
        "    model.compile(optimizer='adam', loss='mse')\n",
        "    return model\n",
        "\n",
        "def visualize_recommendations(recommendations, movie_titles):\n",
        "    if not movie_titles:\n",
        "        print(\"No movie titles available for visualization.\")\n",
        "        return\n",
        "    labels = [movie_titles.get(m, str(m)) for m in recommendations]\n",
        "    scores = np.linspace(10, 1, len(recommendations))\n",
        "    plt.figure(figsize=(10, 5))\n",
        "    plt.barh(labels[::-1], scores[::-1], color='skyblue')\n",
        "    plt.xlabel(\"Recommendation Score\")\n",
        "    plt.ylabel(\"Movie Title\")\n",
        "    plt.title(\"Top Recommended Movies\")\n",
        "    plt.show()\n",
        "\n",
        "tag_relevance = load_data()\n",
        "similarity_matrix = compute_similarity(tag_relevance)\n",
        "movie_titles = load_movie_titles()\n",
        "recommended_movies = recommend_movie(1, tag_relevance, similarity_matrix, movie_titles)\n",
        "if movie_titles:\n",
        "    visualize_recommendations(recommended_movies, movie_titles)\n"
      ],
      "metadata": {
        "colab": {
          "base_uri": "https://localhost:8080/"
        },
        "id": "yeEKi6rkgCr-",
        "outputId": "fcf0a15a-d5f1-45a4-8e42-18962f18462c"
      },
      "execution_count": 19,
      "outputs": [
        {
          "output_type": "stream",
          "name": "stdout",
          "text": [
            "Loading data...\n",
            "Data successfully loaded and scaled.\n",
            "Computing similarity matrix...\n",
            "Similarity matrix computed successfully.\n",
            "Error loading movie titles: [Errno 2] No such file or directory: '/mnt/data/movies.csv'\n",
            "Finding recommendations for Movie ID: 1...\n",
            "╒════════╤════════════════════════╕\n",
            "│   Rank │   Recommended Movie ID │\n",
            "╞════════╪════════════════════════╡\n",
            "│      1 │                   4886 │\n",
            "├────────┼────────────────────────┤\n",
            "│      2 │                   3114 │\n",
            "├────────┼────────────────────────┤\n",
            "│      3 │                   2355 │\n",
            "├────────┼────────────────────────┤\n",
            "│      4 │                   6377 │\n",
            "├────────┼────────────────────────┤\n",
            "│      5 │                  78499 │\n",
            "├────────┼────────────────────────┤\n",
            "│      6 │                  50872 │\n",
            "├────────┼────────────────────────┤\n",
            "│      7 │                   5218 │\n",
            "├────────┼────────────────────────┤\n",
            "│      8 │                   4306 │\n",
            "├────────┼────────────────────────┤\n",
            "│      9 │                  68954 │\n",
            "├────────┼────────────────────────┤\n",
            "│     10 │                   2294 │\n",
            "╘════════╧════════════════════════╛\n"
          ]
        }
      ]
    }
  ]
}